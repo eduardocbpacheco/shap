{
  "cells": [
    {
      "attachments": {},
      "cell_type": "markdown",
      "metadata": {
        "nteract": {
          "transient": {
            "deleting": false
          }
        }
      },
      "source": [
        "- autor: Eduardo Pacheco (edu@atlasia.tech)\n",
        "- 11/01/2023\n",
        "\n",
        "### Estudo de Caso Dotz\n",
        "\n",
        "Precisamos entenderrt o algoritmo SHAP e a fórmula do SHAP values no paper original. A abordagem que daremos aqui é uma abordagem computacional, de forma a reproduzir os exemplos do artigo  [SHAP Values Explained Exactly How You Wished Someone Explained to You](https://towardsdatascience.com/shap-explained-the-way-i-wish-someone-explained-it-to-me-ab81cc69ef30) via código.\n"
      ]
    },
    {
      "cell_type": "markdown",
      "metadata": {
        "nteract": {
          "transient": {
            "deleting": false
          }
        }
      },
      "source": [
        "### O que é SHAP (resumo cego)?\n",
        "\n",
        "O algoritmo SHAP (SHapley Additive exPlanations ) é um modelo de explicabilidade de modelos de machine learning aplicável a modelos black box. Ele é capaz de medir a contribuição marginal de cada feature em um caso na previsão daquele caso. É, portanto, um modelo de explicabilidade local.\n",
        "\n",
        "SHAP foi proposto por Lundberg e Lee no artigo [A Unified Approach to Interpreting Model Predictions](https://arxiv.org/abs/1705.07874). Os autores se valem de um conceito das teorias dos jogos chamado Sharpley Values. Os Sharpley Values são valores associados à importância de cada jogador em um jogo. Essa importância é calculada considerando cada possível interação entre jogadores e os resultados a partir dessa combinação. Em outras palavras : para determinar a importãncia de um jogador no jogo deve-se considerar cada possível combinação de jogadores  (ou coalizão ).\n",
        "\n",
        "O que o SHAP faz é uma metáfora dessa ideia considerando que o jogo é acertar as previsões de um modelo de machine learning ( usualmente black box) e os jogadores são as features. A partir disso, considera-se todas as possíveis combinações entre features (em um power set de features) e se produz um modelo para cada combinação, incluíndo aí o modelo nulo ou dummy (sem features). Dessa forma, é possível saber a previsão feita por cada um desses modelos que partem do mesmo caso (X0) e que usam os mesmos hiperparâmetros - mas que diferem entre si no conjunto de features usado.\n",
        "\n",
        "De posse disso, é possível criar contrastes entre dois dados modelos(quando aplicados a um caso X0, frise-se) que são treinados em condições idênticas exceto pela presença de uma feature. Essa diferença na presença dessa feature leva, naturalmente, a uma diferença no funcionamento interno do modelo e na previsão que é realizada por ele nesse caso X0. Para calcular o SHAP, a diferença entre as previsões é atribuída (\"imputada\") à presença (e à extensão) daquela feature. Assim, o tamanho da diferença entre as previsões dos modelos com e sem a feature considerada é a **contribuição marginal** dessa feature nesse caso (X0) **para esse modelo** (que possui essa feature, não presente no modelo-contraste). \n",
        "\n",
        "O próximo passo é encontrar essa contribuição marginal para todos os modelos que possuem essa feature adicionada e repetir o cálculo da contribuição marginal dessa feature em cada um desses modelos. Com esses valores podemos criar uma equação que equipara ao valor um todas as contribuições marginais dessa feature em cada um dos modelos, atribuídas um peso para cada uma e somadas.\n",
        "\n",
        "Teremos, aí, tantos pesos  quantos forem os modelos em que aquela feature está presente e igual número de contribuições marginais. As contribuições marginais da feature no modelo com ela já estarão a essa altura calculadas e os pesos são desconhecidos. Para descobrir os pesos pela via heurística (computacional) é possível aplicar um algoritmo como o a seguir:\n",
        "\n",
        "1. Considere F o número de features do modelo a ser explicado.\n",
        "2. Defina uma lista de 0 até F, com cada valor sendo f, representando a quantiadde de features que aquele modelo usa ao ser treinado.\n",
        "3. Crie um powerset de features, a partir do conjunto de features usado no modelo original a ser previsto, de modo que todas as combinações de features, incluindo o conjunto vazio, apareça ( e que cada feature apareça apenas uma vez).\n",
        "4. Treine um modelo para cada combinação possível de features e os aloque/associe ao valor f, como se cada modelo estivesse associado a um \"nível\" de f.\n",
        "5. Crie um peso para cada modelo treinado (w1, w2, w3).\n",
        "6. Iguale a somatória dos pesos a 1.\n",
        "7. Iguale a soma dos pesos de todas as camadas (f=0, f=1, f=2...) entre si.\n",
        "8. Iguale os pesos dentro de cada camada.\n",
        "9. Encontre a solução considerando 6, 7 e 8. Isso dará as os valores dos pesos associados a cada contribuição marginal daquela feature em cada modelo em que ela está presente. \n",
        "\n",
        "Agora temos tanto os pesos quanto as contribuições marginais. Aplicando os pesos nas contribuiçoes marginais e somando tudo teremos o valor SHAP associado a essa feature para esse caso X0. Ao repetir o processo para todas as features teremos a importância de cada uma delas na previsão ( ou melhor, na explicação da diferença entre o valor com as featurese o modelo nulo)."
      ]
    },
    {
      "cell_type": "markdown",
      "metadata": {
        "nteract": {
          "transient": {
            "deleting": false
          }
        }
      },
      "source": [
        "### Reprodução via código do SHAP\n",
        "\n",
        "Vamos reproduzir via código a ideia geral do SHAP ( sem incluir as otimizações, para fins meramente didáticos). Consideraremos os valores do site para o exemplo de um modelo que prevê o salário dado age, gender e job. Fizemos um arquivo CSV para representar cada modelo sendo que cada feature é um binário, exceto pela feature prevista, que é o valor do salário.   "
      ]
    },
    {
      "cell_type": "code",
      "execution_count": 131,
      "metadata": {
        "gather": {
          "logged": 1673488906813
        },
        "jupyter": {
          "outputs_hidden": false,
          "source_hidden": false
        },
        "nteract": {
          "transient": {
            "deleting": false
          }
        }
      },
      "outputs": [
        {
          "data": {
            "text/html": [
              "<div>\n",
              "<style scoped>\n",
              "    .dataframe tbody tr th:only-of-type {\n",
              "        vertical-align: middle;\n",
              "    }\n",
              "\n",
              "    .dataframe tbody tr th {\n",
              "        vertical-align: top;\n",
              "    }\n",
              "\n",
              "    .dataframe thead th {\n",
              "        text-align: right;\n",
              "    }\n",
              "</style>\n",
              "<table border=\"1\" class=\"dataframe\">\n",
              "  <thead>\n",
              "    <tr style=\"text-align: right;\">\n",
              "      <th></th>\n",
              "      <th>age</th>\n",
              "      <th>gender</th>\n",
              "      <th>job</th>\n",
              "      <th>salary</th>\n",
              "    </tr>\n",
              "  </thead>\n",
              "  <tbody>\n",
              "    <tr>\n",
              "      <th>0</th>\n",
              "      <td>0</td>\n",
              "      <td>0</td>\n",
              "      <td>0</td>\n",
              "      <td>50</td>\n",
              "    </tr>\n",
              "    <tr>\n",
              "      <th>1</th>\n",
              "      <td>1</td>\n",
              "      <td>0</td>\n",
              "      <td>0</td>\n",
              "      <td>40</td>\n",
              "    </tr>\n",
              "    <tr>\n",
              "      <th>2</th>\n",
              "      <td>0</td>\n",
              "      <td>1</td>\n",
              "      <td>0</td>\n",
              "      <td>48</td>\n",
              "    </tr>\n",
              "    <tr>\n",
              "      <th>3</th>\n",
              "      <td>0</td>\n",
              "      <td>0</td>\n",
              "      <td>1</td>\n",
              "      <td>100</td>\n",
              "    </tr>\n",
              "    <tr>\n",
              "      <th>4</th>\n",
              "      <td>1</td>\n",
              "      <td>1</td>\n",
              "      <td>0</td>\n",
              "      <td>39</td>\n",
              "    </tr>\n",
              "    <tr>\n",
              "      <th>5</th>\n",
              "      <td>1</td>\n",
              "      <td>0</td>\n",
              "      <td>1</td>\n",
              "      <td>85</td>\n",
              "    </tr>\n",
              "    <tr>\n",
              "      <th>6</th>\n",
              "      <td>0</td>\n",
              "      <td>1</td>\n",
              "      <td>1</td>\n",
              "      <td>95</td>\n",
              "    </tr>\n",
              "    <tr>\n",
              "      <th>7</th>\n",
              "      <td>1</td>\n",
              "      <td>1</td>\n",
              "      <td>1</td>\n",
              "      <td>83</td>\n",
              "    </tr>\n",
              "  </tbody>\n",
              "</table>\n",
              "</div>"
            ],
            "text/plain": [
              "   age  gender  job  salary\n",
              "0    0       0    0      50\n",
              "1    1       0    0      40\n",
              "2    0       1    0      48\n",
              "3    0       0    1     100\n",
              "4    1       1    0      39\n",
              "5    1       0    1      85\n",
              "6    0       1    1      95\n",
              "7    1       1    1      83"
            ]
          },
          "execution_count": 131,
          "metadata": {},
          "output_type": "execute_result"
        }
      ],
      "source": [
        "import pandas as pd\n",
        "\n",
        "# carrega um dataframe com as representações dos modelos d0 powerset de features e suas previsões\n",
        "models = pd.read_csv('models_preds.csv')\n",
        "\n",
        "#pega as features, sua quantidade e a cardinalidade\n",
        "features = list(models.columns)\n",
        "X,y = features[0:-1], features[-1]\n",
        "n_features = len(X)\n",
        "cardinality = 2**n_features\n",
        "\n",
        "models"
      ]
    },
    {
      "cell_type": "markdown",
      "metadata": {
        "nteract": {
          "transient": {
            "deleting": false
          }
        }
      },
      "source": [
        "O próximo passo é conseguir descobrir o valor de f para cada modelo representado. Em seguida vamos descobrir o edge que vincula um modelo a outro, de forma a produzir uma árvore."
      ]
    },
    {
      "cell_type": "code",
      "execution_count": 132,
      "metadata": {
        "gather": {
          "logged": 1673488916561
        },
        "jupyter": {
          "outputs_hidden": false,
          "source_hidden": false
        },
        "nteract": {
          "transient": {
            "deleting": false
          }
        }
      },
      "outputs": [],
      "source": [
        "def get_f(model):\n",
        "    ''' recebe a representação de um modelo (Series) e retorna o valor de f para ele'''\n",
        "    return  int(model[0:-1].sum())"
      ]
    },
    {
      "cell_type": "code",
      "execution_count": 133,
      "metadata": {
        "gather": {
          "logged": 1673488926836
        },
        "jupyter": {
          "outputs_hidden": false,
          "source_hidden": false
        },
        "nteract": {
          "transient": {
            "deleting": false
          }
        }
      },
      "outputs": [
        {
          "name": "stdout",
          "output_type": "stream",
          "text": [
            "\n",
            "O modelo \n",
            " age        0\n",
            "gender     0\n",
            "job        0\n",
            "salary    50\n",
            "Name: 0, dtype: int64 \n",
            "tem f =  0\n",
            "\n",
            "O modelo \n",
            " age        1\n",
            "gender     1\n",
            "job        0\n",
            "salary    39\n",
            "Name: 4, dtype: int64 \n",
            "tem f =  2\n",
            "\n",
            "O modelo \n",
            " age        1\n",
            "gender     1\n",
            "job        1\n",
            "salary    83\n",
            "Name: 7, dtype: int64 \n",
            "tem f =  3\n"
          ]
        }
      ],
      "source": [
        "m0 = models.query('age == 0 and gender == 0 and job == 0').squeeze()\n",
        "f = get_f(m0)\n",
        "print('\\nO modelo \\n',m0, '\\ntem f = ', f)\n",
        "\n",
        "m4 = models.query('age == 1 and gender == 1 and job == 0').squeeze()\n",
        "f = get_f(m4)\n",
        "print('\\nO modelo \\n',m4, '\\ntem f = ', f)\n",
        "\n",
        "m7 = models.query('age == 1 and gender == 1 and job == 1').squeeze()\n",
        "f = get_f(m7)\n",
        "print('\\nO modelo \\n',m7, '\\ntem f = ', f)"
      ]
    },
    {
      "cell_type": "markdown",
      "metadata": {
        "nteract": {
          "transient": {
            "deleting": false
          }
        }
      },
      "source": [
        "A função para achar o f funciona. Agora vamos criar um grafo unidirecional/árvore que represente os edges. Para isso precisamos catalogar os modelos, atribuir os valores de f, olhar para todos os f +1 e ver se o modelo ali possui todas as suas features e, se sim, se a feature adicional é a feature alvo. Se for, então há um edge entre o modelo no nível f e o nível f+1. Esse edge é importante porque é a partir desse vínculo que tanto pegamos a contribuição marginal da feature naquele modelo para o caso X0 quanto sabemos que precisamos ter um peso associado a essa contribuição marginal."
      ]
    },
    {
      "cell_type": "code",
      "execution_count": 152,
      "metadata": {
        "gather": {
          "logged": 1673489704684
        },
        "jupyter": {
          "outputs_hidden": false,
          "source_hidden": false
        },
        "nteract": {
          "transient": {
            "deleting": false
          }
        }
      },
      "outputs": [],
      "source": [
        "def get_fs(models):\n",
        "    ''' função registrar o valor de f'''\n",
        "    models_catag = models.copy()\n",
        "    #registra o f\n",
        "    for ix, row in models_catag.iterrows():\n",
        "        models_catag.at[ix,'f'] = get_f(row)\n",
        "    return models_catag\n",
        "\n",
        "def get_edges(feature_alvo,X, m):\n",
        "    ''' função para criar a árvore de conexões entre representações de modelo, dada uma feature alvo e um conjunto de features'''\n",
        "    models_catag = m.copy()\n",
        "    f = ['f']\n",
        "    features_nao_alvo = [feature for feature in X if feature not in feature_alvo and feature not in f]\n",
        "    print(features_nao_alvo)\n",
        "    # varre cada modelo e descobre suas conexões\n",
        "    for ix, row in models_catag.iterrows():\n",
        "        #a origem não pode ter a feature alvo, se tiver pode passar\n",
        "        if not row[feature_alvo]:\n",
        "            f_from = row.f \n",
        "            #pega o caso que é idêntico nas features não alvo, com f+1\n",
        "            query = 'f == {} '.format(f_from + 1)\n",
        "            #monta uma string para a query que encontra o próximo nó\n",
        "            for feature in features_nao_alvo:\n",
        "                query = query +' and '+ feature + ' == {} '.format(row[feature])\n",
        "            # pega o próximo nó para montar o edge\n",
        "            ix_edge = models_catag.query(query).index[0]\n",
        "            models_catag.at[ix,'edge'] = ix_edge\n",
        "    return models_catag"
      ]
    },
    {
      "cell_type": "markdown",
      "metadata": {
        "nteract": {
          "transient": {
            "deleting": false
          }
        }
      },
      "source": [
        "Se tudo correr bem então os resultados são de tal forma que, dado uma feature alvo, um modelo aponte para outro modelo idêntico nas demais features, mas que o modelo destino tenha a feature alvo e o origem não. Vamos testar para os 3 casos."
      ]
    },
    {
      "cell_type": "code",
      "execution_count": 153,
      "metadata": {
        "gather": {
          "logged": 1673489735083
        },
        "jupyter": {
          "outputs_hidden": false,
          "source_hidden": false
        },
        "nteract": {
          "transient": {
            "deleting": false
          }
        }
      },
      "outputs": [
        {
          "name": "stdout",
          "output_type": "stream",
          "text": [
            "['age', 'job']\n"
          ]
        },
        {
          "data": {
            "text/html": [
              "<div>\n",
              "<style scoped>\n",
              "    .dataframe tbody tr th:only-of-type {\n",
              "        vertical-align: middle;\n",
              "    }\n",
              "\n",
              "    .dataframe tbody tr th {\n",
              "        vertical-align: top;\n",
              "    }\n",
              "\n",
              "    .dataframe thead th {\n",
              "        text-align: right;\n",
              "    }\n",
              "</style>\n",
              "<table border=\"1\" class=\"dataframe\">\n",
              "  <thead>\n",
              "    <tr style=\"text-align: right;\">\n",
              "      <th></th>\n",
              "      <th>age</th>\n",
              "      <th>gender</th>\n",
              "      <th>job</th>\n",
              "      <th>salary</th>\n",
              "      <th>f</th>\n",
              "      <th>edge</th>\n",
              "    </tr>\n",
              "  </thead>\n",
              "  <tbody>\n",
              "    <tr>\n",
              "      <th>0</th>\n",
              "      <td>0</td>\n",
              "      <td>0</td>\n",
              "      <td>0</td>\n",
              "      <td>50</td>\n",
              "      <td>0.0</td>\n",
              "      <td>2.0</td>\n",
              "    </tr>\n",
              "    <tr>\n",
              "      <th>1</th>\n",
              "      <td>1</td>\n",
              "      <td>0</td>\n",
              "      <td>0</td>\n",
              "      <td>40</td>\n",
              "      <td>1.0</td>\n",
              "      <td>4.0</td>\n",
              "    </tr>\n",
              "    <tr>\n",
              "      <th>2</th>\n",
              "      <td>0</td>\n",
              "      <td>1</td>\n",
              "      <td>0</td>\n",
              "      <td>48</td>\n",
              "      <td>1.0</td>\n",
              "      <td>NaN</td>\n",
              "    </tr>\n",
              "    <tr>\n",
              "      <th>3</th>\n",
              "      <td>0</td>\n",
              "      <td>0</td>\n",
              "      <td>1</td>\n",
              "      <td>100</td>\n",
              "      <td>1.0</td>\n",
              "      <td>6.0</td>\n",
              "    </tr>\n",
              "    <tr>\n",
              "      <th>4</th>\n",
              "      <td>1</td>\n",
              "      <td>1</td>\n",
              "      <td>0</td>\n",
              "      <td>39</td>\n",
              "      <td>2.0</td>\n",
              "      <td>NaN</td>\n",
              "    </tr>\n",
              "    <tr>\n",
              "      <th>5</th>\n",
              "      <td>1</td>\n",
              "      <td>0</td>\n",
              "      <td>1</td>\n",
              "      <td>85</td>\n",
              "      <td>2.0</td>\n",
              "      <td>7.0</td>\n",
              "    </tr>\n",
              "    <tr>\n",
              "      <th>6</th>\n",
              "      <td>0</td>\n",
              "      <td>1</td>\n",
              "      <td>1</td>\n",
              "      <td>95</td>\n",
              "      <td>2.0</td>\n",
              "      <td>NaN</td>\n",
              "    </tr>\n",
              "    <tr>\n",
              "      <th>7</th>\n",
              "      <td>1</td>\n",
              "      <td>1</td>\n",
              "      <td>1</td>\n",
              "      <td>83</td>\n",
              "      <td>3.0</td>\n",
              "      <td>NaN</td>\n",
              "    </tr>\n",
              "  </tbody>\n",
              "</table>\n",
              "</div>"
            ],
            "text/plain": [
              "   age  gender  job  salary    f  edge\n",
              "0    0       0    0      50  0.0   2.0\n",
              "1    1       0    0      40  1.0   4.0\n",
              "2    0       1    0      48  1.0   NaN\n",
              "3    0       0    1     100  1.0   6.0\n",
              "4    1       1    0      39  2.0   NaN\n",
              "5    1       0    1      85  2.0   7.0\n",
              "6    0       1    1      95  2.0   NaN\n",
              "7    1       1    1      83  3.0   NaN"
            ]
          },
          "execution_count": 153,
          "metadata": {},
          "output_type": "execute_result"
        }
      ],
      "source": [
        "models_f = get_fs(models)\n",
        "edges_gender = get_edges('gender',X, models_f)\n",
        "edges_gender"
      ]
    },
    {
      "cell_type": "code",
      "execution_count": 136,
      "metadata": {
        "gather": {
          "logged": 1673489008334
        },
        "jupyter": {
          "outputs_hidden": false,
          "source_hidden": false
        },
        "nteract": {
          "transient": {
            "deleting": false
          }
        }
      },
      "outputs": [
        {
          "name": "stdout",
          "output_type": "stream",
          "text": [
            "['gender', 'job']\n"
          ]
        },
        {
          "data": {
            "text/html": [
              "<div>\n",
              "<style scoped>\n",
              "    .dataframe tbody tr th:only-of-type {\n",
              "        vertical-align: middle;\n",
              "    }\n",
              "\n",
              "    .dataframe tbody tr th {\n",
              "        vertical-align: top;\n",
              "    }\n",
              "\n",
              "    .dataframe thead th {\n",
              "        text-align: right;\n",
              "    }\n",
              "</style>\n",
              "<table border=\"1\" class=\"dataframe\">\n",
              "  <thead>\n",
              "    <tr style=\"text-align: right;\">\n",
              "      <th></th>\n",
              "      <th>age</th>\n",
              "      <th>gender</th>\n",
              "      <th>job</th>\n",
              "      <th>salary</th>\n",
              "      <th>f</th>\n",
              "      <th>edge</th>\n",
              "    </tr>\n",
              "  </thead>\n",
              "  <tbody>\n",
              "    <tr>\n",
              "      <th>0</th>\n",
              "      <td>0</td>\n",
              "      <td>0</td>\n",
              "      <td>0</td>\n",
              "      <td>50</td>\n",
              "      <td>0.0</td>\n",
              "      <td>1.0</td>\n",
              "    </tr>\n",
              "    <tr>\n",
              "      <th>1</th>\n",
              "      <td>1</td>\n",
              "      <td>0</td>\n",
              "      <td>0</td>\n",
              "      <td>40</td>\n",
              "      <td>1.0</td>\n",
              "      <td>NaN</td>\n",
              "    </tr>\n",
              "    <tr>\n",
              "      <th>2</th>\n",
              "      <td>0</td>\n",
              "      <td>1</td>\n",
              "      <td>0</td>\n",
              "      <td>48</td>\n",
              "      <td>1.0</td>\n",
              "      <td>4.0</td>\n",
              "    </tr>\n",
              "    <tr>\n",
              "      <th>3</th>\n",
              "      <td>0</td>\n",
              "      <td>0</td>\n",
              "      <td>1</td>\n",
              "      <td>100</td>\n",
              "      <td>1.0</td>\n",
              "      <td>5.0</td>\n",
              "    </tr>\n",
              "    <tr>\n",
              "      <th>4</th>\n",
              "      <td>1</td>\n",
              "      <td>1</td>\n",
              "      <td>0</td>\n",
              "      <td>39</td>\n",
              "      <td>2.0</td>\n",
              "      <td>NaN</td>\n",
              "    </tr>\n",
              "    <tr>\n",
              "      <th>5</th>\n",
              "      <td>1</td>\n",
              "      <td>0</td>\n",
              "      <td>1</td>\n",
              "      <td>85</td>\n",
              "      <td>2.0</td>\n",
              "      <td>NaN</td>\n",
              "    </tr>\n",
              "    <tr>\n",
              "      <th>6</th>\n",
              "      <td>0</td>\n",
              "      <td>1</td>\n",
              "      <td>1</td>\n",
              "      <td>95</td>\n",
              "      <td>2.0</td>\n",
              "      <td>7.0</td>\n",
              "    </tr>\n",
              "    <tr>\n",
              "      <th>7</th>\n",
              "      <td>1</td>\n",
              "      <td>1</td>\n",
              "      <td>1</td>\n",
              "      <td>83</td>\n",
              "      <td>3.0</td>\n",
              "      <td>NaN</td>\n",
              "    </tr>\n",
              "  </tbody>\n",
              "</table>\n",
              "</div>"
            ],
            "text/plain": [
              "   age  gender  job  salary    f  edge\n",
              "0    0       0    0      50  0.0   1.0\n",
              "1    1       0    0      40  1.0   NaN\n",
              "2    0       1    0      48  1.0   4.0\n",
              "3    0       0    1     100  1.0   5.0\n",
              "4    1       1    0      39  2.0   NaN\n",
              "5    1       0    1      85  2.0   NaN\n",
              "6    0       1    1      95  2.0   7.0\n",
              "7    1       1    1      83  3.0   NaN"
            ]
          },
          "execution_count": 136,
          "metadata": {},
          "output_type": "execute_result"
        }
      ],
      "source": [
        "edges_age = get_edges('age',X, models_f)\n",
        "edges_age"
      ]
    },
    {
      "cell_type": "code",
      "execution_count": 137,
      "metadata": {
        "gather": {
          "logged": 1673489023648
        },
        "jupyter": {
          "outputs_hidden": false,
          "source_hidden": false
        },
        "nteract": {
          "transient": {
            "deleting": false
          }
        }
      },
      "outputs": [
        {
          "name": "stdout",
          "output_type": "stream",
          "text": [
            "['age', 'gender']\n"
          ]
        },
        {
          "data": {
            "text/html": [
              "<div>\n",
              "<style scoped>\n",
              "    .dataframe tbody tr th:only-of-type {\n",
              "        vertical-align: middle;\n",
              "    }\n",
              "\n",
              "    .dataframe tbody tr th {\n",
              "        vertical-align: top;\n",
              "    }\n",
              "\n",
              "    .dataframe thead th {\n",
              "        text-align: right;\n",
              "    }\n",
              "</style>\n",
              "<table border=\"1\" class=\"dataframe\">\n",
              "  <thead>\n",
              "    <tr style=\"text-align: right;\">\n",
              "      <th></th>\n",
              "      <th>age</th>\n",
              "      <th>gender</th>\n",
              "      <th>job</th>\n",
              "      <th>salary</th>\n",
              "      <th>f</th>\n",
              "      <th>edge</th>\n",
              "    </tr>\n",
              "  </thead>\n",
              "  <tbody>\n",
              "    <tr>\n",
              "      <th>0</th>\n",
              "      <td>0</td>\n",
              "      <td>0</td>\n",
              "      <td>0</td>\n",
              "      <td>50</td>\n",
              "      <td>0.0</td>\n",
              "      <td>3.0</td>\n",
              "    </tr>\n",
              "    <tr>\n",
              "      <th>1</th>\n",
              "      <td>1</td>\n",
              "      <td>0</td>\n",
              "      <td>0</td>\n",
              "      <td>40</td>\n",
              "      <td>1.0</td>\n",
              "      <td>5.0</td>\n",
              "    </tr>\n",
              "    <tr>\n",
              "      <th>2</th>\n",
              "      <td>0</td>\n",
              "      <td>1</td>\n",
              "      <td>0</td>\n",
              "      <td>48</td>\n",
              "      <td>1.0</td>\n",
              "      <td>6.0</td>\n",
              "    </tr>\n",
              "    <tr>\n",
              "      <th>3</th>\n",
              "      <td>0</td>\n",
              "      <td>0</td>\n",
              "      <td>1</td>\n",
              "      <td>100</td>\n",
              "      <td>1.0</td>\n",
              "      <td>NaN</td>\n",
              "    </tr>\n",
              "    <tr>\n",
              "      <th>4</th>\n",
              "      <td>1</td>\n",
              "      <td>1</td>\n",
              "      <td>0</td>\n",
              "      <td>39</td>\n",
              "      <td>2.0</td>\n",
              "      <td>7.0</td>\n",
              "    </tr>\n",
              "    <tr>\n",
              "      <th>5</th>\n",
              "      <td>1</td>\n",
              "      <td>0</td>\n",
              "      <td>1</td>\n",
              "      <td>85</td>\n",
              "      <td>2.0</td>\n",
              "      <td>NaN</td>\n",
              "    </tr>\n",
              "    <tr>\n",
              "      <th>6</th>\n",
              "      <td>0</td>\n",
              "      <td>1</td>\n",
              "      <td>1</td>\n",
              "      <td>95</td>\n",
              "      <td>2.0</td>\n",
              "      <td>NaN</td>\n",
              "    </tr>\n",
              "    <tr>\n",
              "      <th>7</th>\n",
              "      <td>1</td>\n",
              "      <td>1</td>\n",
              "      <td>1</td>\n",
              "      <td>83</td>\n",
              "      <td>3.0</td>\n",
              "      <td>NaN</td>\n",
              "    </tr>\n",
              "  </tbody>\n",
              "</table>\n",
              "</div>"
            ],
            "text/plain": [
              "   age  gender  job  salary    f  edge\n",
              "0    0       0    0      50  0.0   3.0\n",
              "1    1       0    0      40  1.0   5.0\n",
              "2    0       1    0      48  1.0   6.0\n",
              "3    0       0    1     100  1.0   NaN\n",
              "4    1       1    0      39  2.0   7.0\n",
              "5    1       0    1      85  2.0   NaN\n",
              "6    0       1    1      95  2.0   NaN\n",
              "7    1       1    1      83  3.0   NaN"
            ]
          },
          "execution_count": 137,
          "metadata": {},
          "output_type": "execute_result"
        }
      ],
      "source": [
        "edges_job = get_edges('job',X, models_f)\n",
        "edges_job"
      ]
    },
    {
      "cell_type": "markdown",
      "metadata": {
        "nteract": {
          "transient": {
            "deleting": false
          }
        }
      },
      "source": [
        "Tudo certo aqui. Agora vamos calcular as contribuições marginais de uma feature em cada modelo."
      ]
    },
    {
      "cell_type": "code",
      "execution_count": 138,
      "metadata": {
        "gather": {
          "logged": 1673489033490
        },
        "jupyter": {
          "outputs_hidden": false,
          "source_hidden": false
        },
        "nteract": {
          "transient": {
            "deleting": false
          }
        }
      },
      "outputs": [],
      "source": [
        "import math\n",
        "\n",
        "def get_MC(feature_alvo,X, edges):\n",
        "    ''' retorna as contribuições marginais associadas a cada conexão entre modelos do contraste com e sem a feature alvo '''\n",
        "    marginal_contributions = edges.copy()\n",
        "\n",
        "    for ix, row in marginal_contributions.iterrows():\n",
        "        #verifica se o modelo atual se conecta a outro\n",
        "        if not math.isnan(row.edge):\n",
        "            #se sim pega o salário de origem e destino\n",
        "            prev_to = marginal_contributions.iloc[int(row.edge)].salary\n",
        "            prev_from = row.salary\n",
        "\n",
        "            #calcula a diferença e atribui como contribuição marginal ao modelo com a feature alvo\n",
        "            diff = prev_to - prev_from\n",
        "            marginal_contributions.at[int(row.edge),'MC'] = diff\n",
        "    return marginal_contributions"
      ]
    },
    {
      "cell_type": "code",
      "execution_count": 139,
      "metadata": {
        "gather": {
          "logged": 1673489058877
        },
        "jupyter": {
          "outputs_hidden": false,
          "source_hidden": false
        },
        "nteract": {
          "transient": {
            "deleting": false
          }
        }
      },
      "outputs": [
        {
          "data": {
            "text/html": [
              "<div>\n",
              "<style scoped>\n",
              "    .dataframe tbody tr th:only-of-type {\n",
              "        vertical-align: middle;\n",
              "    }\n",
              "\n",
              "    .dataframe tbody tr th {\n",
              "        vertical-align: top;\n",
              "    }\n",
              "\n",
              "    .dataframe thead th {\n",
              "        text-align: right;\n",
              "    }\n",
              "</style>\n",
              "<table border=\"1\" class=\"dataframe\">\n",
              "  <thead>\n",
              "    <tr style=\"text-align: right;\">\n",
              "      <th></th>\n",
              "      <th>age</th>\n",
              "      <th>gender</th>\n",
              "      <th>job</th>\n",
              "      <th>salary</th>\n",
              "      <th>f</th>\n",
              "      <th>edge</th>\n",
              "      <th>MC</th>\n",
              "    </tr>\n",
              "  </thead>\n",
              "  <tbody>\n",
              "    <tr>\n",
              "      <th>0</th>\n",
              "      <td>0</td>\n",
              "      <td>0</td>\n",
              "      <td>0</td>\n",
              "      <td>50</td>\n",
              "      <td>0.0</td>\n",
              "      <td>1.0</td>\n",
              "      <td>NaN</td>\n",
              "    </tr>\n",
              "    <tr>\n",
              "      <th>1</th>\n",
              "      <td>1</td>\n",
              "      <td>0</td>\n",
              "      <td>0</td>\n",
              "      <td>40</td>\n",
              "      <td>1.0</td>\n",
              "      <td>NaN</td>\n",
              "      <td>-10.0</td>\n",
              "    </tr>\n",
              "    <tr>\n",
              "      <th>2</th>\n",
              "      <td>0</td>\n",
              "      <td>1</td>\n",
              "      <td>0</td>\n",
              "      <td>48</td>\n",
              "      <td>1.0</td>\n",
              "      <td>4.0</td>\n",
              "      <td>NaN</td>\n",
              "    </tr>\n",
              "    <tr>\n",
              "      <th>3</th>\n",
              "      <td>0</td>\n",
              "      <td>0</td>\n",
              "      <td>1</td>\n",
              "      <td>100</td>\n",
              "      <td>1.0</td>\n",
              "      <td>5.0</td>\n",
              "      <td>NaN</td>\n",
              "    </tr>\n",
              "    <tr>\n",
              "      <th>4</th>\n",
              "      <td>1</td>\n",
              "      <td>1</td>\n",
              "      <td>0</td>\n",
              "      <td>39</td>\n",
              "      <td>2.0</td>\n",
              "      <td>NaN</td>\n",
              "      <td>-9.0</td>\n",
              "    </tr>\n",
              "    <tr>\n",
              "      <th>5</th>\n",
              "      <td>1</td>\n",
              "      <td>0</td>\n",
              "      <td>1</td>\n",
              "      <td>85</td>\n",
              "      <td>2.0</td>\n",
              "      <td>NaN</td>\n",
              "      <td>-15.0</td>\n",
              "    </tr>\n",
              "    <tr>\n",
              "      <th>6</th>\n",
              "      <td>0</td>\n",
              "      <td>1</td>\n",
              "      <td>1</td>\n",
              "      <td>95</td>\n",
              "      <td>2.0</td>\n",
              "      <td>7.0</td>\n",
              "      <td>NaN</td>\n",
              "    </tr>\n",
              "    <tr>\n",
              "      <th>7</th>\n",
              "      <td>1</td>\n",
              "      <td>1</td>\n",
              "      <td>1</td>\n",
              "      <td>83</td>\n",
              "      <td>3.0</td>\n",
              "      <td>NaN</td>\n",
              "      <td>-12.0</td>\n",
              "    </tr>\n",
              "  </tbody>\n",
              "</table>\n",
              "</div>"
            ],
            "text/plain": [
              "   age  gender  job  salary    f  edge    MC\n",
              "0    0       0    0      50  0.0   1.0   NaN\n",
              "1    1       0    0      40  1.0   NaN -10.0\n",
              "2    0       1    0      48  1.0   4.0   NaN\n",
              "3    0       0    1     100  1.0   5.0   NaN\n",
              "4    1       1    0      39  2.0   NaN  -9.0\n",
              "5    1       0    1      85  2.0   NaN -15.0\n",
              "6    0       1    1      95  2.0   7.0   NaN\n",
              "7    1       1    1      83  3.0   NaN -12.0"
            ]
          },
          "execution_count": 139,
          "metadata": {},
          "output_type": "execute_result"
        }
      ],
      "source": [
        "age_MC = get_MC('age',X, edges_age)\n",
        "age_MC"
      ]
    },
    {
      "cell_type": "markdown",
      "metadata": {
        "nteract": {
          "transient": {
            "deleting": false
          }
        }
      },
      "source": [
        "Para age bate com os exemplos do [artigo de Samuelle Mazantinni : SHAP Values Explained Exactly How You Wished Someone Explained to You] (https://towardsdatascience.com/shap-explained-the-way-i-wish-someone-explained-it-to-me-ab81cc69ef30). Vejamos para as outras features."
      ]
    },
    {
      "cell_type": "code",
      "execution_count": 140,
      "metadata": {
        "gather": {
          "logged": 1673489069136
        },
        "jupyter": {
          "outputs_hidden": false,
          "source_hidden": false
        },
        "nteract": {
          "transient": {
            "deleting": false
          }
        }
      },
      "outputs": [
        {
          "data": {
            "text/html": [
              "<div>\n",
              "<style scoped>\n",
              "    .dataframe tbody tr th:only-of-type {\n",
              "        vertical-align: middle;\n",
              "    }\n",
              "\n",
              "    .dataframe tbody tr th {\n",
              "        vertical-align: top;\n",
              "    }\n",
              "\n",
              "    .dataframe thead th {\n",
              "        text-align: right;\n",
              "    }\n",
              "</style>\n",
              "<table border=\"1\" class=\"dataframe\">\n",
              "  <thead>\n",
              "    <tr style=\"text-align: right;\">\n",
              "      <th></th>\n",
              "      <th>age</th>\n",
              "      <th>gender</th>\n",
              "      <th>job</th>\n",
              "      <th>salary</th>\n",
              "      <th>f</th>\n",
              "      <th>edge</th>\n",
              "      <th>MC</th>\n",
              "    </tr>\n",
              "  </thead>\n",
              "  <tbody>\n",
              "    <tr>\n",
              "      <th>0</th>\n",
              "      <td>0</td>\n",
              "      <td>0</td>\n",
              "      <td>0</td>\n",
              "      <td>50</td>\n",
              "      <td>0.0</td>\n",
              "      <td>3.0</td>\n",
              "      <td>NaN</td>\n",
              "    </tr>\n",
              "    <tr>\n",
              "      <th>1</th>\n",
              "      <td>1</td>\n",
              "      <td>0</td>\n",
              "      <td>0</td>\n",
              "      <td>40</td>\n",
              "      <td>1.0</td>\n",
              "      <td>5.0</td>\n",
              "      <td>NaN</td>\n",
              "    </tr>\n",
              "    <tr>\n",
              "      <th>2</th>\n",
              "      <td>0</td>\n",
              "      <td>1</td>\n",
              "      <td>0</td>\n",
              "      <td>48</td>\n",
              "      <td>1.0</td>\n",
              "      <td>6.0</td>\n",
              "      <td>NaN</td>\n",
              "    </tr>\n",
              "    <tr>\n",
              "      <th>3</th>\n",
              "      <td>0</td>\n",
              "      <td>0</td>\n",
              "      <td>1</td>\n",
              "      <td>100</td>\n",
              "      <td>1.0</td>\n",
              "      <td>NaN</td>\n",
              "      <td>50.0</td>\n",
              "    </tr>\n",
              "    <tr>\n",
              "      <th>4</th>\n",
              "      <td>1</td>\n",
              "      <td>1</td>\n",
              "      <td>0</td>\n",
              "      <td>39</td>\n",
              "      <td>2.0</td>\n",
              "      <td>7.0</td>\n",
              "      <td>NaN</td>\n",
              "    </tr>\n",
              "    <tr>\n",
              "      <th>5</th>\n",
              "      <td>1</td>\n",
              "      <td>0</td>\n",
              "      <td>1</td>\n",
              "      <td>85</td>\n",
              "      <td>2.0</td>\n",
              "      <td>NaN</td>\n",
              "      <td>45.0</td>\n",
              "    </tr>\n",
              "    <tr>\n",
              "      <th>6</th>\n",
              "      <td>0</td>\n",
              "      <td>1</td>\n",
              "      <td>1</td>\n",
              "      <td>95</td>\n",
              "      <td>2.0</td>\n",
              "      <td>NaN</td>\n",
              "      <td>47.0</td>\n",
              "    </tr>\n",
              "    <tr>\n",
              "      <th>7</th>\n",
              "      <td>1</td>\n",
              "      <td>1</td>\n",
              "      <td>1</td>\n",
              "      <td>83</td>\n",
              "      <td>3.0</td>\n",
              "      <td>NaN</td>\n",
              "      <td>44.0</td>\n",
              "    </tr>\n",
              "  </tbody>\n",
              "</table>\n",
              "</div>"
            ],
            "text/plain": [
              "   age  gender  job  salary    f  edge    MC\n",
              "0    0       0    0      50  0.0   3.0   NaN\n",
              "1    1       0    0      40  1.0   5.0   NaN\n",
              "2    0       1    0      48  1.0   6.0   NaN\n",
              "3    0       0    1     100  1.0   NaN  50.0\n",
              "4    1       1    0      39  2.0   7.0   NaN\n",
              "5    1       0    1      85  2.0   NaN  45.0\n",
              "6    0       1    1      95  2.0   NaN  47.0\n",
              "7    1       1    1      83  3.0   NaN  44.0"
            ]
          },
          "execution_count": 140,
          "metadata": {},
          "output_type": "execute_result"
        }
      ],
      "source": [
        "job_MC = get_MC('job',X, edges_job)\n",
        "job_MC"
      ]
    },
    {
      "cell_type": "code",
      "execution_count": 141,
      "metadata": {
        "gather": {
          "logged": 1673489109741
        },
        "jupyter": {
          "outputs_hidden": false,
          "source_hidden": false
        },
        "nteract": {
          "transient": {
            "deleting": false
          }
        }
      },
      "outputs": [
        {
          "data": {
            "text/html": [
              "<div>\n",
              "<style scoped>\n",
              "    .dataframe tbody tr th:only-of-type {\n",
              "        vertical-align: middle;\n",
              "    }\n",
              "\n",
              "    .dataframe tbody tr th {\n",
              "        vertical-align: top;\n",
              "    }\n",
              "\n",
              "    .dataframe thead th {\n",
              "        text-align: right;\n",
              "    }\n",
              "</style>\n",
              "<table border=\"1\" class=\"dataframe\">\n",
              "  <thead>\n",
              "    <tr style=\"text-align: right;\">\n",
              "      <th></th>\n",
              "      <th>age</th>\n",
              "      <th>gender</th>\n",
              "      <th>job</th>\n",
              "      <th>salary</th>\n",
              "      <th>f</th>\n",
              "      <th>edge</th>\n",
              "      <th>MC</th>\n",
              "    </tr>\n",
              "  </thead>\n",
              "  <tbody>\n",
              "    <tr>\n",
              "      <th>0</th>\n",
              "      <td>0</td>\n",
              "      <td>0</td>\n",
              "      <td>0</td>\n",
              "      <td>50</td>\n",
              "      <td>0.0</td>\n",
              "      <td>2.0</td>\n",
              "      <td>NaN</td>\n",
              "    </tr>\n",
              "    <tr>\n",
              "      <th>1</th>\n",
              "      <td>1</td>\n",
              "      <td>0</td>\n",
              "      <td>0</td>\n",
              "      <td>40</td>\n",
              "      <td>1.0</td>\n",
              "      <td>4.0</td>\n",
              "      <td>NaN</td>\n",
              "    </tr>\n",
              "    <tr>\n",
              "      <th>2</th>\n",
              "      <td>0</td>\n",
              "      <td>1</td>\n",
              "      <td>0</td>\n",
              "      <td>48</td>\n",
              "      <td>1.0</td>\n",
              "      <td>NaN</td>\n",
              "      <td>-2.0</td>\n",
              "    </tr>\n",
              "    <tr>\n",
              "      <th>3</th>\n",
              "      <td>0</td>\n",
              "      <td>0</td>\n",
              "      <td>1</td>\n",
              "      <td>100</td>\n",
              "      <td>1.0</td>\n",
              "      <td>6.0</td>\n",
              "      <td>NaN</td>\n",
              "    </tr>\n",
              "    <tr>\n",
              "      <th>4</th>\n",
              "      <td>1</td>\n",
              "      <td>1</td>\n",
              "      <td>0</td>\n",
              "      <td>39</td>\n",
              "      <td>2.0</td>\n",
              "      <td>NaN</td>\n",
              "      <td>-1.0</td>\n",
              "    </tr>\n",
              "    <tr>\n",
              "      <th>5</th>\n",
              "      <td>1</td>\n",
              "      <td>0</td>\n",
              "      <td>1</td>\n",
              "      <td>85</td>\n",
              "      <td>2.0</td>\n",
              "      <td>7.0</td>\n",
              "      <td>NaN</td>\n",
              "    </tr>\n",
              "    <tr>\n",
              "      <th>6</th>\n",
              "      <td>0</td>\n",
              "      <td>1</td>\n",
              "      <td>1</td>\n",
              "      <td>95</td>\n",
              "      <td>2.0</td>\n",
              "      <td>NaN</td>\n",
              "      <td>-5.0</td>\n",
              "    </tr>\n",
              "    <tr>\n",
              "      <th>7</th>\n",
              "      <td>1</td>\n",
              "      <td>1</td>\n",
              "      <td>1</td>\n",
              "      <td>83</td>\n",
              "      <td>3.0</td>\n",
              "      <td>NaN</td>\n",
              "      <td>-2.0</td>\n",
              "    </tr>\n",
              "  </tbody>\n",
              "</table>\n",
              "</div>"
            ],
            "text/plain": [
              "   age  gender  job  salary    f  edge   MC\n",
              "0    0       0    0      50  0.0   2.0  NaN\n",
              "1    1       0    0      40  1.0   4.0  NaN\n",
              "2    0       1    0      48  1.0   NaN -2.0\n",
              "3    0       0    1     100  1.0   6.0  NaN\n",
              "4    1       1    0      39  2.0   NaN -1.0\n",
              "5    1       0    1      85  2.0   7.0  NaN\n",
              "6    0       1    1      95  2.0   NaN -5.0\n",
              "7    1       1    1      83  3.0   NaN -2.0"
            ]
          },
          "execution_count": 141,
          "metadata": {},
          "output_type": "execute_result"
        }
      ],
      "source": [
        "gender_MC = get_MC('gender',X, edges_gender)\n",
        "gender_MC"
      ]
    },
    {
      "cell_type": "markdown",
      "metadata": {
        "nteract": {
          "transient": {
            "deleting": false
          }
        }
      },
      "source": [
        "### Calculando os pesos\n",
        "\n",
        "Para calcular os pesos de modo heurístico (e não pela via das fórmulas ou com binomial) precisamos respeitar trẽs regras:\n",
        "\n",
        "1. A soma de todos os pesos é igual a 1;\n",
        "2. A soma de cada camada (f) de features obtidas no poweset é igual a cada outra camada;\n",
        "3. O valor dos pesos **dentro** de cada camada é o mesmo para cada modelo nessa camada."
      ]
    },
    {
      "cell_type": "code",
      "execution_count": 142,
      "metadata": {
        "gather": {
          "logged": 1673489119946
        },
        "jupyter": {
          "outputs_hidden": false,
          "source_hidden": false
        },
        "nteract": {
          "transient": {
            "deleting": false
          }
        }
      },
      "outputs": [],
      "source": [
        "def get_weights(edges):\n",
        "    ''' devolve os pesos dado um DF de MC '''\n",
        "    # filtra apenas os casos que já tenham MC\n",
        "    weights = edges.query('not MC.isnull()', engine='python')\n",
        "    #pega todos os fs\n",
        "    fs = weights.f.unique()\n",
        "    n_fs = len(fs)\n",
        "\n",
        "    #varre os modelos com MC e conta quantos modelos tem naquele f\n",
        "    for ix, row in weights.iterrows():\n",
        "        n_models = len(weights.query('f == {}'.format(row.f)))\n",
        "        # atribui o peso w\n",
        "        weights.at[ix,'w'] = 1 / (n_fs * n_models)\n",
        "\n",
        "    return weights\n"
      ]
    },
    {
      "cell_type": "code",
      "execution_count": 143,
      "metadata": {
        "gather": {
          "logged": 1673489130072
        },
        "jupyter": {
          "outputs_hidden": false,
          "source_hidden": false
        },
        "nteract": {
          "transient": {
            "deleting": false
          }
        }
      },
      "outputs": [
        {
          "name": "stderr",
          "output_type": "stream",
          "text": [
            "/anaconda/envs/azureml_py38/lib/python3.8/site-packages/pandas/core/indexing.py:1596: SettingWithCopyWarning: \n",
            "A value is trying to be set on a copy of a slice from a DataFrame.\n",
            "Try using .loc[row_indexer,col_indexer] = value instead\n",
            "\n",
            "See the caveats in the documentation: https://pandas.pydata.org/pandas-docs/stable/user_guide/indexing.html#returning-a-view-versus-a-copy\n",
            "  self.obj[key] = _infer_fill_value(value)\n",
            "/anaconda/envs/azureml_py38/lib/python3.8/site-packages/pandas/core/indexing.py:1763: SettingWithCopyWarning: \n",
            "A value is trying to be set on a copy of a slice from a DataFrame.\n",
            "Try using .loc[row_indexer,col_indexer] = value instead\n",
            "\n",
            "See the caveats in the documentation: https://pandas.pydata.org/pandas-docs/stable/user_guide/indexing.html#returning-a-view-versus-a-copy\n",
            "  isetter(loc, value)\n"
          ]
        }
      ],
      "source": [
        "# pega os pesos\n",
        "age_mc_w = get_weights(age_MC)\n",
        "gender_mc_w = get_weights(gender_MC)\n",
        "job_mc_w = get_weights(job_MC)"
      ]
    },
    {
      "cell_type": "markdown",
      "metadata": {
        "nteract": {
          "transient": {
            "deleting": false
          }
        }
      },
      "source": [
        "Calculamos os pesos, agora vamos somar tudo."
      ]
    },
    {
      "cell_type": "code",
      "execution_count": 144,
      "metadata": {
        "gather": {
          "logged": 1673489175948
        },
        "jupyter": {
          "outputs_hidden": false,
          "source_hidden": false
        },
        "nteract": {
          "transient": {
            "deleting": false
          }
        }
      },
      "outputs": [],
      "source": [
        "import numpy as np\n",
        "\n",
        "def get_feature_shap(mc_w):\n",
        "    ''' faz a somatória dado um df com MC e w '''\n",
        "    return np.round(np.sum(np.multiply(np.array(mc_w['MC']), np.array(mc_w['w']))),2)\n"
      ]
    },
    {
      "cell_type": "code",
      "execution_count": 145,
      "metadata": {
        "gather": {
          "logged": 1673489186094
        },
        "jupyter": {
          "outputs_hidden": false,
          "source_hidden": false
        },
        "nteract": {
          "transient": {
            "deleting": false
          }
        }
      },
      "outputs": [
        {
          "data": {
            "text/plain": [
              "-11.33"
            ]
          },
          "execution_count": 145,
          "metadata": {},
          "output_type": "execute_result"
        }
      ],
      "source": [
        "age_shap = get_feature_shap(age_mc_w)\n",
        "age_shap"
      ]
    },
    {
      "cell_type": "code",
      "execution_count": 146,
      "metadata": {
        "gather": {
          "logged": 1673489196366
        },
        "jupyter": {
          "outputs_hidden": false,
          "source_hidden": false
        },
        "nteract": {
          "transient": {
            "deleting": false
          }
        }
      },
      "outputs": [
        {
          "data": {
            "text/plain": [
              "-2.33"
            ]
          },
          "execution_count": 146,
          "metadata": {},
          "output_type": "execute_result"
        }
      ],
      "source": [
        "gender_shap = get_feature_shap(gender_mc_w)\n",
        "gender_shap"
      ]
    },
    {
      "cell_type": "code",
      "execution_count": 147,
      "metadata": {
        "gather": {
          "logged": 1673489206474
        },
        "jupyter": {
          "outputs_hidden": false,
          "source_hidden": false
        },
        "nteract": {
          "transient": {
            "deleting": false
          }
        }
      },
      "outputs": [
        {
          "data": {
            "text/plain": [
              "46.67"
            ]
          },
          "execution_count": 147,
          "metadata": {},
          "output_type": "execute_result"
        }
      ],
      "source": [
        "job_shap = get_feature_shap(job_mc_w)\n",
        "job_shap"
      ]
    },
    {
      "cell_type": "markdown",
      "metadata": {
        "nteract": {
          "transient": {
            "deleting": false
          }
        }
      },
      "source": [
        "Os valores bateram com os do artigo didático. Agora vamos devolver um pandas dataframe com os SHAP values."
      ]
    },
    {
      "cell_type": "code",
      "execution_count": 162,
      "metadata": {
        "gather": {
          "logged": 1673490751679
        },
        "jupyter": {
          "outputs_hidden": false,
          "source_hidden": false
        },
        "nteract": {
          "transient": {
            "deleting": false
          }
        }
      },
      "outputs": [],
      "source": [
        "def get_SHAP_df(model):\n",
        "    ''' dado um dataframe com a representação dos modelos retorna um df com os SHAP values'''\n",
        "\n",
        "    #vamos assumir que apenas a representação dos modelos foi passada então pegaremos as features novamente\n",
        "    #pega as features, sua quantidade e a cardinalidade\n",
        "    features = list(model.columns)\n",
        "    X,y = features[0:-1], features[-1]\n",
        "    n_features = len(X)\n",
        "    cardinality = 2**n_features\n",
        "    #pega os valores de f\n",
        "    model_f = get_fs(model)\n",
        "    # filtra o modelo que usa todas as features, que tem f máximo\n",
        "    shap_df = model_f.query('f == {}'.format(n_features))\n",
        "\n",
        "    #converte as features para float\n",
        "    for x in X:\n",
        "        shap_df[x] = shap_df[x].astype(float)\n",
        "    index = shap_df.head(1).index[0]\n",
        "    #para cada feature\n",
        "    for feature in X:\n",
        "        #pega as conexões\n",
        "        edges = get_edges(feature,X, model_f)\n",
        "        #calcula as contribuições marginais\n",
        "        mc = get_MC(feature,X, edges)\n",
        "        #agrega os pesos\n",
        "        mc_w = get_weights(mc)\n",
        "        #calcula a feature SHAP\n",
        "        feature_shap = get_feature_shap(mc_w)\n",
        "        \n",
        "        shap_df.at[index,feature] = feature_shap\n",
        "    return shap_df.drop('f', axis=1)\n",
        "\n"
      ]
    },
    {
      "cell_type": "code",
      "execution_count": 163,
      "metadata": {
        "gather": {
          "logged": 1673490766924
        },
        "jupyter": {
          "outputs_hidden": false,
          "source_hidden": false
        },
        "nteract": {
          "transient": {
            "deleting": false
          }
        }
      },
      "outputs": [
        {
          "name": "stderr",
          "output_type": "stream",
          "text": [
            "<ipython-input-162-a85cb63453f3>:17: SettingWithCopyWarning: \n",
            "A value is trying to be set on a copy of a slice from a DataFrame.\n",
            "Try using .loc[row_indexer,col_indexer] = value instead\n",
            "\n",
            "See the caveats in the documentation: https://pandas.pydata.org/pandas-docs/stable/user_guide/indexing.html#returning-a-view-versus-a-copy\n",
            "  shap_df[x] = shap_df[x].astype(float)\n",
            "/anaconda/envs/azureml_py38/lib/python3.8/site-packages/pandas/core/indexing.py:1596: SettingWithCopyWarning: \n",
            "A value is trying to be set on a copy of a slice from a DataFrame.\n",
            "Try using .loc[row_indexer,col_indexer] = value instead\n",
            "\n",
            "See the caveats in the documentation: https://pandas.pydata.org/pandas-docs/stable/user_guide/indexing.html#returning-a-view-versus-a-copy\n",
            "  self.obj[key] = _infer_fill_value(value)\n",
            "/anaconda/envs/azureml_py38/lib/python3.8/site-packages/pandas/core/indexing.py:1763: SettingWithCopyWarning: \n",
            "A value is trying to be set on a copy of a slice from a DataFrame.\n",
            "Try using .loc[row_indexer,col_indexer] = value instead\n",
            "\n",
            "See the caveats in the documentation: https://pandas.pydata.org/pandas-docs/stable/user_guide/indexing.html#returning-a-view-versus-a-copy\n",
            "  isetter(loc, value)\n"
          ]
        },
        {
          "data": {
            "text/html": [
              "<div>\n",
              "<style scoped>\n",
              "    .dataframe tbody tr th:only-of-type {\n",
              "        vertical-align: middle;\n",
              "    }\n",
              "\n",
              "    .dataframe tbody tr th {\n",
              "        vertical-align: top;\n",
              "    }\n",
              "\n",
              "    .dataframe thead th {\n",
              "        text-align: right;\n",
              "    }\n",
              "</style>\n",
              "<table border=\"1\" class=\"dataframe\">\n",
              "  <thead>\n",
              "    <tr style=\"text-align: right;\">\n",
              "      <th></th>\n",
              "      <th>age</th>\n",
              "      <th>gender</th>\n",
              "      <th>job</th>\n",
              "      <th>salary</th>\n",
              "    </tr>\n",
              "  </thead>\n",
              "  <tbody>\n",
              "    <tr>\n",
              "      <th>7</th>\n",
              "      <td>-11.33</td>\n",
              "      <td>-2.33</td>\n",
              "      <td>46.67</td>\n",
              "      <td>83</td>\n",
              "    </tr>\n",
              "  </tbody>\n",
              "</table>\n",
              "</div>"
            ],
            "text/plain": [
              "     age  gender    job  salary\n",
              "7 -11.33   -2.33  46.67      83"
            ]
          },
          "execution_count": 163,
          "metadata": {},
          "output_type": "execute_result"
        }
      ],
      "source": [
        "models = pd.read_csv('models_preds.csv')\n",
        "get_SHAP_df(models)"
      ]
    },
    {
      "cell_type": "markdown",
      "metadata": {
        "nteract": {
          "transient": {
            "deleting": false
          }
        }
      },
      "source": [
        "### Conclusão\n",
        "\n",
        "Conseguimos reproduzir computacionalmente a fórmula de cálculo dos valores SHAP. Isso implica em uma compreensão de sua mecânica e usa a mesma lógica. O código aqui usou como exemplos o artigo [SHAP Values Explained Exactly How You Wished Someone Explained to You](https://towardsdatascience.com/shap-explained-the-way-i-wish-someone-explained-it-to-me-ab81cc69ef30) de Samuele Mazzanti e usa a abordagem da série Think (como em [Think Statistics](https://greenteapress.com/wp/think-stats-2e/), que resolve problemas de estatística com uma abordagem computacional) e do livro Data Science do Zero.\n",
        "\n",
        "É possível a partir daqui adaptar esse código para pegar e treinar modelos reais."
      ]
    }
  ],
  "metadata": {
    "kernel_info": {
      "name": "python38-azureml"
    },
    "kernelspec": {
      "display_name": "Python 3.8 - AzureML",
      "language": "python",
      "name": "python38-azureml"
    },
    "language_info": {
      "codemirror_mode": {
        "name": "ipython",
        "version": 3
      },
      "file_extension": ".py",
      "mimetype": "text/x-python",
      "name": "python",
      "nbconvert_exporter": "python",
      "pygments_lexer": "ipython3",
      "version": "3.8.5"
    },
    "microsoft": {
      "host": {
        "AzureML": {
          "notebookHasBeenCompleted": true
        }
      }
    },
    "nteract": {
      "version": "nteract-front-end@1.0.0"
    }
  },
  "nbformat": 4,
  "nbformat_minor": 2
}
